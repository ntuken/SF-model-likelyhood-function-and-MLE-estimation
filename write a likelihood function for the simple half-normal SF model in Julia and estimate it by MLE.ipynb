{
 "cells": [
  {
   "cell_type": "code",
   "execution_count": 146,
   "metadata": {},
   "outputs": [],
   "source": [
    "using CSV, DataFrames\n",
    "using Optim, NLSolversBase, Random\n",
    "using Distributions\n",
    "using LinearAlgebra, GLM\n"
   ]
  },
  {
   "cell_type": "code",
   "execution_count": 147,
   "metadata": {},
   "outputs": [
    {
     "data": {
      "text/html": [
       "<table class=\"data-frame\"><thead><tr><th></th><th>variable</th><th>mean</th><th>min</th><th>median</th><th>max</th><th>nmissing</th><th>eltype</th></tr><tr><th></th><th>Symbol</th><th>Float64</th><th>Real</th><th>Float64</th><th>Real</th><th>Int64</th><th>DataType</th></tr></thead><tbody><p>11 rows × 7 columns</p><tr><th>1</th><td>yvar</td><td>7.27812</td><td>3.58666</td><td>7.28586</td><td>9.80335</td><td>0</td><td>Float64</td></tr><tr><th>2</th><td>Lland</td><td>1.05695</td><td>-1.60944</td><td>1.14307</td><td>3.04309</td><td>0</td><td>Float64</td></tr><tr><th>3</th><td>PIland</td><td>0.146997</td><td>0.0</td><td>0.0</td><td>1.0</td><td>0</td><td>Float64</td></tr><tr><th>4</th><td>Llabor</td><td>6.84951</td><td>3.2581</td><td>6.72263</td><td>9.46622</td><td>0</td><td>Float64</td></tr><tr><th>5</th><td>Lbull</td><td>5.64161</td><td>2.07944</td><td>5.68358</td><td>8.37008</td><td>0</td><td>Float64</td></tr><tr><th>6</th><td>Lcost</td><td>4.6033</td><td>0.0</td><td>5.1511</td><td>8.73311</td><td>0</td><td>Float64</td></tr><tr><th>7</th><td>yr</td><td>5.38007</td><td>1</td><td>5.0</td><td>10</td><td>0</td><td>Int64</td></tr><tr><th>8</th><td>age</td><td>53.8856</td><td>26</td><td>53.0</td><td>90</td><td>0</td><td>Int64</td></tr><tr><th>9</th><td>school</td><td>2.02583</td><td>0</td><td>0.0</td><td>10</td><td>0</td><td>Int64</td></tr><tr><th>10</th><td>yr_1</td><td>5.38007</td><td>1</td><td>5.0</td><td>10</td><td>0</td><td>Int64</td></tr><tr><th>11</th><td>_cons</td><td>1.0</td><td>1</td><td>1.0</td><td>1</td><td>0</td><td>Int64</td></tr></tbody></table>"
      ],
      "text/latex": [
       "\\begin{tabular}{r|ccccccc}\n",
       "\t& variable & mean & min & median & max & nmissing & eltype\\\\\n",
       "\t\\hline\n",
       "\t& Symbol & Float64 & Real & Float64 & Real & Int64 & DataType\\\\\n",
       "\t\\hline\n",
       "\t1 & yvar & 7.27812 & 3.58666 & 7.28586 & 9.80335 & 0 & Float64 \\\\\n",
       "\t2 & Lland & 1.05695 & -1.60944 & 1.14307 & 3.04309 & 0 & Float64 \\\\\n",
       "\t3 & PIland & 0.146997 & 0.0 & 0.0 & 1.0 & 0 & Float64 \\\\\n",
       "\t4 & Llabor & 6.84951 & 3.2581 & 6.72263 & 9.46622 & 0 & Float64 \\\\\n",
       "\t5 & Lbull & 5.64161 & 2.07944 & 5.68358 & 8.37008 & 0 & Float64 \\\\\n",
       "\t6 & Lcost & 4.6033 & 0.0 & 5.1511 & 8.73311 & 0 & Float64 \\\\\n",
       "\t7 & yr & 5.38007 & 1 & 5.0 & 10 & 0 & Int64 \\\\\n",
       "\t8 & age & 53.8856 & 26 & 53.0 & 90 & 0 & Int64 \\\\\n",
       "\t9 & school & 2.02583 & 0 & 0.0 & 10 & 0 & Int64 \\\\\n",
       "\t10 & yr\\_1 & 5.38007 & 1 & 5.0 & 10 & 0 & Int64 \\\\\n",
       "\t11 & \\_cons & 1.0 & 1 & 1.0 & 1 & 0 & Int64 \\\\\n",
       "\\end{tabular}\n"
      ],
      "text/plain": [
       "\u001b[1m11×7 DataFrame\u001b[0m\n",
       "\u001b[1m Row \u001b[0m│\u001b[1m variable \u001b[0m\u001b[1m mean      \u001b[0m\u001b[1m min      \u001b[0m\u001b[1m median   \u001b[0m\u001b[1m max     \u001b[0m\u001b[1m nmissing \u001b[0m\u001b[1m eltype   \u001b[0m\n",
       "\u001b[1m     \u001b[0m│\u001b[90m Symbol   \u001b[0m\u001b[90m Float64   \u001b[0m\u001b[90m Real     \u001b[0m\u001b[90m Float64  \u001b[0m\u001b[90m Real    \u001b[0m\u001b[90m Int64    \u001b[0m\u001b[90m DataType \u001b[0m\n",
       "─────┼──────────────────────────────────────────────────────────────────────\n",
       "   1 │ yvar       7.27812    3.58666   7.28586  9.80335         0  Float64\n",
       "   2 │ Lland      1.05695   -1.60944   1.14307  3.04309         0  Float64\n",
       "   3 │ PIland     0.146997       0.0   0.0          1.0         0  Float64\n",
       "   4 │ Llabor     6.84951     3.2581   6.72263  9.46622         0  Float64\n",
       "   5 │ Lbull      5.64161    2.07944   5.68358  8.37008         0  Float64\n",
       "   6 │ Lcost      4.6033         0.0   5.1511   8.73311         0  Float64\n",
       "   7 │ yr         5.38007          1   5.0           10         0  Int64\n",
       "   8 │ age       53.8856          26  53.0           90         0  Int64\n",
       "   9 │ school     2.02583          0   0.0           10         0  Int64\n",
       "  10 │ yr_1       5.38007          1   5.0           10         0  Int64\n",
       "  11 │ _cons      1.0              1   1.0            1         0  Int64"
      ]
     },
     "execution_count": 147,
     "metadata": {},
     "output_type": "execute_result"
    }
   ],
   "source": [
    "#  Read in Dataset\n",
    "df = CSV.read(\"sampledata.csv\", DataFrame; header=1, delim=\",\")\n",
    "\n",
    "#  append a column of 1 to be used as a constant\n",
    "df[!, :_cons] .=1;\n",
    "\n",
    "\n",
    "\n",
    "n = size(df, 1)     # n is number of observations\n",
    "nvar = size(df, 2)  # nvar is number of variable \n",
    "\n",
    "describe(df)"
   ]
  },
  {
   "cell_type": "code",
   "execution_count": 148,
   "metadata": {},
   "outputs": [
    {
     "data": {
      "text/plain": [
       "sfmodel_spec (generic function with 1 method)"
      ]
     },
     "execution_count": 148,
     "metadata": {},
     "output_type": "execute_result"
    }
   ],
   "source": [
    "# get sfmodel maximum likelyhood function\n",
    "function sfmodel_spec(dist, depvar, frontier, log_σ_u_ED, β, log_σ_v, log_σ_u_ME)\n",
    "    \"\"\"\n",
    "    dist: distribution of u_i and v_i\n",
    "    depvar: depend variable with matrix or Dataframe type\n",
    "    frontier: independent variable with matrix or Dataframe type\n",
    "    log_σ_u_ED: exogenous determinant of log_σ_u with matrix or Dataframe type\n",
    "    β: marginal effect for depvar vector with length equal to columns of frontier with matrix or DataFrame type\n",
    "    log_σ_v: float type\n",
    "    log_σ_u_ME: marginal effect for log_σ_u_ED with length equal to columns of log_σ_u_ED\n",
    "    \"\"\" \n",
    "    \n",
    "    \n",
    "    if dist == \"half\"\n",
    "        d = Normal(0, 1)\n",
    "    end\n",
    "    \n",
    "    X = convert(Matrix, frontier)\n",
    "    Y = vec(depvar)\n",
    "    W_u = convert(Matrix, log_σ_u_ED)\n",
    "    ε = vec(Y - X*β)  #  ε is residual vector  !! some error occur\n",
    "    \n",
    "    n = size(X, 1)  # n is number of observation\n",
    "    \n",
    "    σ_u = map(exp, (W_u*log_σ_u_ME))  # σ_u is vector contain each observation's variance of efficiency\n",
    "    σ_v = exp(log_σ_v)\n",
    "    \n",
    "    tmp = vec(map(σ_ui -> 1/2*log(σ_ui^2 + σ_v), σ_u))\n",
    "    u_star = vec((-σ_u.^2 .*ε)./(σ_v^2 .+ σ_u.^2))\n",
    "    sigma_star = vec(map(σ_ui -> (σ_v^2*σ_ui^2)/(σ_v^2 + σ_ui^2), σ_u))\n",
    "    \n",
    "    tmp_2 = vec(map(t -> log(pdf(d, t)), ε./(((σ_u.^2 .+ σ_v^2)).^(1/2))))\n",
    "    \n",
    "    \n",
    "    llike_i = -log(1/2) .- tmp .+ tmp_2 .+ map(t -> log(cdf(d, t)), u_star./(sigma_star) .^(1/2))\n",
    "    llike = sum(-1 .*llike_i)  # sum up llike_i\n",
    "    \n",
    "end\n"
   ]
  },
  {
   "cell_type": "code",
   "execution_count": 149,
   "metadata": {},
   "outputs": [
    {
     "name": "stdout",
     "output_type": "stream",
     "text": [
      "7\n"
     ]
    },
    {
     "data": {
      "text/plain": [
       "4"
      ]
     },
     "execution_count": 149,
     "metadata": {},
     "output_type": "execute_result"
    }
   ],
   "source": [
    "# take imput data\n",
    "\n",
    "y = df.yvar\n",
    "x = df[:,[\"Lland\", \"PIland\", \"Llabor\", \"Lbull\", \"Lcost\", \"yr\", \"_cons\"]]\n",
    "log_σ_u_ED = df[:, [\"age\", \"school\", \"yr\", \"_cons\"]]\n",
    "\n",
    "\n",
    "nvar = size(x, 2)    # number of xvar\n",
    "println(nvar)\n",
    "n_ED = size(log_σ_u_ED, 2)  # number of exogenous determinant of log_σ_u\n",
    "\n"
   ]
  },
  {
   "cell_type": "code",
   "execution_count": 150,
   "metadata": {
    "scrolled": true
   },
   "outputs": [
    {
     "name": "stdout",
     "output_type": "stream",
     "text": [
      "StatsModels.TableRegressionModel{LinearModel{GLM.LmResp{Vector{Float64}}, GLM.DensePredChol{Float64, CholeskyPivoted{Float64, Matrix{Float64}}}}, Matrix{Float64}}\n",
      "\n",
      "yvar ~ 1 + Lland + PIland + Llabor + Lbull + Lcost + yr + _cons\n",
      "\n",
      "Coefficients:\n",
      "──────────────────────────────────────────────────────────────────────────────────\n",
      "                   Coef.    Std. Error       t  Pr(>|t|)    Lower 95%    Upper 95%\n",
      "──────────────────────────────────────────────────────────────────────────────────\n",
      "(Intercept)   0.877344      0.363618      2.41    0.0165    0.161383     1.59331\n",
      "Lland         0.273592      0.0744712     3.67    0.0003    0.126959     0.420225\n",
      "PIland        0.108956      0.197265      0.55    0.5812   -0.279457     0.497369\n",
      "Llabor        1.26251       0.0823367    15.33    <1e-37    1.10039      1.42463\n",
      "Lbull        -0.50067       0.0617097    -8.11    <1e-13   -0.622176    -0.379164\n",
      "Lcost         0.00177811    0.0145402     0.12    0.9028   -0.0268514    0.0304076\n",
      "yr            0.049151      0.00832799    5.90    <1e-07    0.0327532    0.0655487\n",
      "_cons         0.0         NaN           NaN       NaN     NaN          NaN\n",
      "──────────────────────────────────────────────────────────────────────────────────"
     ]
    }
   ],
   "source": [
    "# since β is consistent in both OLS and SF model, I run OLS to get β coefficient as initial value\n",
    "\n",
    "fm = @formula(yvar ~ Lland + PIland + Llabor + Lbull + Lcost + yr + _cons)\n",
    "linearRegressor = lm(fm, df[:,[\"yvar\", \"Lland\", \"PIland\", \"Llabor\", \"Lbull\", \"Lcost\", \"yr\", \"_cons\"]])\n",
    "print(linearRegressor)"
   ]
  },
  {
   "cell_type": "code",
   "execution_count": 151,
   "metadata": {},
   "outputs": [
    {
     "name": "stdout",
     "output_type": "stream",
     "text": [
      "(12,)\n"
     ]
    },
    {
     "data": {
      "text/plain": [
       " * Status: failure (reached maximum number of iterations)\n",
       "\n",
       " * Candidate solution\n",
       "    Final objective value:     1.010886e+02\n",
       "\n",
       " * Found with\n",
       "    Algorithm:     Newton's Method\n",
       "\n",
       " * Convergence measures\n",
       "    |x - x'|               = 6.69e-04 ≰ 0.0e+00\n",
       "    |x - x'|/|x'|          = 4.21e-05 ≰ 0.0e+00\n",
       "    |f(x) - f(x')|         = 1.16e-07 ≰ 0.0e+00\n",
       "    |f(x) - f(x')|/|f(x')| = 1.15e-09 ≰ 0.0e+00\n",
       "    |g(x)|                 = 8.38e+00 ≰ 1.0e-08\n",
       "\n",
       " * Work counters\n",
       "    Seconds run:   6  (vs limit Inf)\n",
       "    Iterations:    1000\n",
       "    f(x) calls:    3110\n",
       "    ∇f(x) calls:   3110\n",
       "    ∇²f(x) calls:  1001\n"
      ]
     },
     "execution_count": 151,
     "metadata": {},
     "output_type": "execute_result"
    }
   ],
   "source": [
    "initial_value = [0.273592, 0.108956, 1.26251, -0.50067, 0.00177811, 0.049151, 0.877344, 0.108956, 0.108956, 0.108956, 0.108956, 0.108956]\n",
    "println(size(initial_value))\n",
    "func = TwiceDifferentiable(vars -> sfmodel_spec(\"half\", y, x, log_σ_u_ED,\n",
    "                                                              vars[1:nvar], vars[nvar+1], vars[nvar+2:nvar+n_ED+1]),\n",
    "                                                              initial_value; autodiff=:forward);\n",
    "opt = optimize(func, initial_value)"
   ]
  },
  {
   "cell_type": "code",
   "execution_count": 152,
   "metadata": {
    "scrolled": true
   },
   "outputs": [
    {
     "data": {
      "text/html": [
       "<table class=\"data-frame\"><thead><tr><th></th><th>variable_name</th><th>β</th></tr><tr><th></th><th>Any</th><th>Any</th></tr></thead><tbody><p>7 rows × 2 columns</p><tr><th>1</th><td>Lland</td><td>0.17536</td></tr><tr><th>2</th><td>PIland</td><td>0.249209</td></tr><tr><th>3</th><td>Llabor</td><td>1.06722</td></tr><tr><th>4</th><td>Lbull</td><td>-0.287234</td></tr><tr><th>5</th><td>Lcost</td><td>0.0226944</td></tr><tr><th>6</th><td>yr</td><td>0.00390032</td></tr><tr><th>7</th><td>_cons</td><td>1.85395</td></tr></tbody></table>"
      ],
      "text/latex": [
       "\\begin{tabular}{r|cc}\n",
       "\t& variable\\_name & β\\\\\n",
       "\t\\hline\n",
       "\t& Any & Any\\\\\n",
       "\t\\hline\n",
       "\t1 & Lland & 0.17536 \\\\\n",
       "\t2 & PIland & 0.249209 \\\\\n",
       "\t3 & Llabor & 1.06722 \\\\\n",
       "\t4 & Lbull & -0.287234 \\\\\n",
       "\t5 & Lcost & 0.0226944 \\\\\n",
       "\t6 & yr & 0.00390032 \\\\\n",
       "\t7 & \\_cons & 1.85395 \\\\\n",
       "\\end{tabular}\n"
      ],
      "text/plain": [
       "\u001b[1m7×2 DataFrame\u001b[0m\n",
       "\u001b[1m Row \u001b[0m│\u001b[1m variable_name \u001b[0m\u001b[1m β          \u001b[0m\n",
       "\u001b[1m     \u001b[0m│\u001b[90m Any           \u001b[0m\u001b[90m Any        \u001b[0m\n",
       "─────┼───────────────────────────\n",
       "   1 │ Lland          0.17536\n",
       "   2 │ PIland         0.249209\n",
       "   3 │ Llabor         1.06722\n",
       "   4 │ Lbull          -0.287234\n",
       "   5 │ Lcost          0.0226944\n",
       "   6 │ yr             0.00390032\n",
       "   7 │ _cons          1.85395"
      ]
     },
     "execution_count": 152,
     "metadata": {},
     "output_type": "execute_result"
    }
   ],
   "source": [
    "parameters = Optim.minimizer(opt)\n",
    "parameters[nvar+1] = exp(parameters[nvar+1])  # σ_v estimation\n",
    "\n",
    "# build up β_table\n",
    "β = parameters[1:nvar]\n",
    "frontier_name = [\"Lland\", \"PIland\", \"Llabor\", \"Lbull\", \"Lcost\", \"yr\", \"_cons\"]\n",
    "β_table = convert(DataFrame, [frontier_name β])\n",
    "rename!(β_table, [\"variable_name\", \"β\"])"
   ]
  },
  {
   "cell_type": "code",
   "execution_count": 153,
   "metadata": {
    "scrolled": false
   },
   "outputs": [
    {
     "data": {
      "text/html": [
       "<table class=\"data-frame\"><thead><tr><th></th><th>variable_name</th><th>coefficient</th></tr><tr><th></th><th>Any</th><th>Any</th></tr></thead><tbody><p>4 rows × 2 columns</p><tr><th>1</th><td>age</td><td>-0.00277744</td></tr><tr><th>2</th><td>school</td><td>-0.0176864</td></tr><tr><th>3</th><td>yr</td><td>-0.0616731</td></tr><tr><th>4</th><td>_cons</td><td>0.164519</td></tr></tbody></table>"
      ],
      "text/latex": [
       "\\begin{tabular}{r|cc}\n",
       "\t& variable\\_name & coefficient\\\\\n",
       "\t\\hline\n",
       "\t& Any & Any\\\\\n",
       "\t\\hline\n",
       "\t1 & age & -0.00277744 \\\\\n",
       "\t2 & school & -0.0176864 \\\\\n",
       "\t3 & yr & -0.0616731 \\\\\n",
       "\t4 & \\_cons & 0.164519 \\\\\n",
       "\\end{tabular}\n"
      ],
      "text/plain": [
       "\u001b[1m4×2 DataFrame\u001b[0m\n",
       "\u001b[1m Row \u001b[0m│\u001b[1m variable_name \u001b[0m\u001b[1m coefficient \u001b[0m\n",
       "\u001b[1m     \u001b[0m│\u001b[90m Any           \u001b[0m\u001b[90m Any         \u001b[0m\n",
       "─────┼────────────────────────────\n",
       "   1 │ age            -0.00277744\n",
       "   2 │ school         -0.0176864\n",
       "   3 │ yr             -0.0616731\n",
       "   4 │ _cons          0.164519"
      ]
     },
     "execution_count": 153,
     "metadata": {},
     "output_type": "execute_result"
    }
   ],
   "source": [
    "ED_names = [\"age\", \"school\", \"yr\", \"_cons\"]\n",
    "log_σ_u_ED_table = convert(DataFrame, [ED_names parameters[nvar+2:end]])\n",
    "rename!(log_σ_u_ED_table, [\"variable_name\", \"coefficient\"])"
   ]
  },
  {
   "cell_type": "code",
   "execution_count": 154,
   "metadata": {},
   "outputs": [
    {
     "data": {
      "image/svg+xml": [
       "<?xml version=\"1.0\" encoding=\"utf-8\"?>\n",
       "<svg xmlns=\"http://www.w3.org/2000/svg\" xmlns:xlink=\"http://www.w3.org/1999/xlink\" width=\"600\" height=\"400\" viewBox=\"0 0 2400 1600\">\n",
       "<defs>\n",
       "  <clipPath id=\"clip490\">\n",
       "    <rect x=\"0\" y=\"0\" width=\"2400\" height=\"1600\"/>\n",
       "  </clipPath>\n",
       "</defs>\n",
       "<path clip-path=\"url(#clip490)\" d=\"\n",
       "M0 1600 L2400 1600 L2400 0 L0 0  Z\n",
       "  \" fill=\"#ffffff\" fill-rule=\"evenodd\" fill-opacity=\"1\"/>\n",
       "<defs>\n",
       "  <clipPath id=\"clip491\">\n",
       "    <rect x=\"480\" y=\"0\" width=\"1681\" height=\"1600\"/>\n",
       "  </clipPath>\n",
       "</defs>\n",
       "<path clip-path=\"url(#clip490)\" d=\"\n",
       "M186.274 1486.45 L2352.76 1486.45 L2352.76 47.2441 L186.274 47.2441  Z\n",
       "  \" fill=\"#ffffff\" fill-rule=\"evenodd\" fill-opacity=\"1\"/>\n",
       "<defs>\n",
       "  <clipPath id=\"clip492\">\n",
       "    <rect x=\"186\" y=\"47\" width=\"2167\" height=\"1440\"/>\n",
       "  </clipPath>\n",
       "</defs>\n",
       "<polyline clip-path=\"url(#clip492)\" style=\"stroke:#000000; stroke-width:2; stroke-opacity:0.1; fill:none\" points=\"\n",
       "  547.554,1486.45 547.554,47.2441 \n",
       "  \"/>\n",
       "<polyline clip-path=\"url(#clip492)\" style=\"stroke:#000000; stroke-width:2; stroke-opacity:0.1; fill:none\" points=\"\n",
       "  912.475,1486.45 912.475,47.2441 \n",
       "  \"/>\n",
       "<polyline clip-path=\"url(#clip492)\" style=\"stroke:#000000; stroke-width:2; stroke-opacity:0.1; fill:none\" points=\"\n",
       "  1277.4,1486.45 1277.4,47.2441 \n",
       "  \"/>\n",
       "<polyline clip-path=\"url(#clip492)\" style=\"stroke:#000000; stroke-width:2; stroke-opacity:0.1; fill:none\" points=\"\n",
       "  1642.32,1486.45 1642.32,47.2441 \n",
       "  \"/>\n",
       "<polyline clip-path=\"url(#clip492)\" style=\"stroke:#000000; stroke-width:2; stroke-opacity:0.1; fill:none\" points=\"\n",
       "  2007.24,1486.45 2007.24,47.2441 \n",
       "  \"/>\n",
       "<polyline clip-path=\"url(#clip490)\" style=\"stroke:#000000; stroke-width:4; stroke-opacity:1; fill:none\" points=\"\n",
       "  186.274,1486.45 2352.76,1486.45 \n",
       "  \"/>\n",
       "<polyline clip-path=\"url(#clip490)\" style=\"stroke:#000000; stroke-width:4; stroke-opacity:1; fill:none\" points=\"\n",
       "  547.554,1486.45 547.554,1469.18 \n",
       "  \"/>\n",
       "<polyline clip-path=\"url(#clip490)\" style=\"stroke:#000000; stroke-width:4; stroke-opacity:1; fill:none\" points=\"\n",
       "  912.475,1486.45 912.475,1469.18 \n",
       "  \"/>\n",
       "<polyline clip-path=\"url(#clip490)\" style=\"stroke:#000000; stroke-width:4; stroke-opacity:1; fill:none\" points=\"\n",
       "  1277.4,1486.45 1277.4,1469.18 \n",
       "  \"/>\n",
       "<polyline clip-path=\"url(#clip490)\" style=\"stroke:#000000; stroke-width:4; stroke-opacity:1; fill:none\" points=\"\n",
       "  1642.32,1486.45 1642.32,1469.18 \n",
       "  \"/>\n",
       "<polyline clip-path=\"url(#clip490)\" style=\"stroke:#000000; stroke-width:4; stroke-opacity:1; fill:none\" points=\"\n",
       "  2007.24,1486.45 2007.24,1469.18 \n",
       "  \"/>\n",
       "<path clip-path=\"url(#clip490)\" d=\"M 0 0 M524.938 1515.64 Q521.327 1515.64 519.499 1519.2 Q517.693 1522.75 517.693 1529.87 Q517.693 1536.98 519.499 1540.55 Q521.327 1544.09 524.938 1544.09 Q528.573 1544.09 530.378 1540.55 Q532.207 1536.98 532.207 1529.87 Q532.207 1522.75 530.378 1519.2 Q528.573 1515.64 524.938 1515.64 M524.938 1511.93 Q530.748 1511.93 533.804 1516.54 Q536.883 1521.12 536.883 1529.87 Q536.883 1538.6 533.804 1543.21 Q530.748 1547.79 524.938 1547.79 Q519.128 1547.79 516.049 1543.21 Q512.994 1538.6 512.994 1529.87 Q512.994 1521.12 516.049 1516.54 Q519.128 1511.93 524.938 1511.93 Z\" fill=\"#000000\" fill-rule=\"evenodd\" fill-opacity=\"1\" /><path clip-path=\"url(#clip490)\" d=\"M 0 0 M545.1 1541.24 L549.984 1541.24 L549.984 1547.12 L545.1 1547.12 L545.1 1541.24 Z\" fill=\"#000000\" fill-rule=\"evenodd\" fill-opacity=\"1\" /><path clip-path=\"url(#clip490)\" d=\"M 0 0 M570.17 1515.64 Q566.558 1515.64 564.73 1519.2 Q562.924 1522.75 562.924 1529.87 Q562.924 1536.98 564.73 1540.55 Q566.558 1544.09 570.17 1544.09 Q573.804 1544.09 575.609 1540.55 Q577.438 1536.98 577.438 1529.87 Q577.438 1522.75 575.609 1519.2 Q573.804 1515.64 570.17 1515.64 M570.17 1511.93 Q575.98 1511.93 579.035 1516.54 Q582.114 1521.12 582.114 1529.87 Q582.114 1538.6 579.035 1543.21 Q575.98 1547.79 570.17 1547.79 Q564.359 1547.79 561.281 1543.21 Q558.225 1538.6 558.225 1529.87 Q558.225 1521.12 561.281 1516.54 Q564.359 1511.93 570.17 1511.93 Z\" fill=\"#000000\" fill-rule=\"evenodd\" fill-opacity=\"1\" /><path clip-path=\"url(#clip490)\" d=\"M 0 0 M890.357 1515.64 Q886.745 1515.64 884.917 1519.2 Q883.111 1522.75 883.111 1529.87 Q883.111 1536.98 884.917 1540.55 Q886.745 1544.09 890.357 1544.09 Q893.991 1544.09 895.796 1540.55 Q897.625 1536.98 897.625 1529.87 Q897.625 1522.75 895.796 1519.2 Q893.991 1515.64 890.357 1515.64 M890.357 1511.93 Q896.167 1511.93 899.222 1516.54 Q902.301 1521.12 902.301 1529.87 Q902.301 1538.6 899.222 1543.21 Q896.167 1547.79 890.357 1547.79 Q884.546 1547.79 881.468 1543.21 Q878.412 1538.6 878.412 1529.87 Q878.412 1521.12 881.468 1516.54 Q884.546 1511.93 890.357 1511.93 Z\" fill=\"#000000\" fill-rule=\"evenodd\" fill-opacity=\"1\" /><path clip-path=\"url(#clip490)\" d=\"M 0 0 M910.519 1541.24 L915.403 1541.24 L915.403 1547.12 L910.519 1547.12 L910.519 1541.24 Z\" fill=\"#000000\" fill-rule=\"evenodd\" fill-opacity=\"1\" /><path clip-path=\"url(#clip490)\" d=\"M 0 0 M925.634 1512.56 L943.991 1512.56 L943.991 1516.5 L929.917 1516.5 L929.917 1524.97 Q930.935 1524.62 931.954 1524.46 Q932.972 1524.27 933.991 1524.27 Q939.778 1524.27 943.157 1527.44 Q946.537 1530.62 946.537 1536.03 Q946.537 1541.61 943.065 1544.71 Q939.592 1547.79 933.273 1547.79 Q931.097 1547.79 928.829 1547.42 Q926.583 1547.05 924.176 1546.31 L924.176 1541.61 Q926.259 1542.74 928.481 1543.3 Q930.704 1543.86 933.18 1543.86 Q937.185 1543.86 939.523 1541.75 Q941.861 1539.64 941.861 1536.03 Q941.861 1532.42 939.523 1530.31 Q937.185 1528.21 933.18 1528.21 Q931.305 1528.21 929.43 1528.62 Q927.579 1529.04 925.634 1529.92 L925.634 1512.56 Z\" fill=\"#000000\" fill-rule=\"evenodd\" fill-opacity=\"1\" /><path clip-path=\"url(#clip490)\" d=\"M 0 0 M1244.55 1543.18 L1252.19 1543.18 L1252.19 1516.82 L1243.88 1518.49 L1243.88 1514.23 L1252.14 1512.56 L1256.82 1512.56 L1256.82 1543.18 L1264.46 1543.18 L1264.46 1547.12 L1244.55 1547.12 L1244.55 1543.18 Z\" fill=\"#000000\" fill-rule=\"evenodd\" fill-opacity=\"1\" /><path clip-path=\"url(#clip490)\" d=\"M 0 0 M1273.9 1541.24 L1278.78 1541.24 L1278.78 1547.12 L1273.9 1547.12 L1273.9 1541.24 Z\" fill=\"#000000\" fill-rule=\"evenodd\" fill-opacity=\"1\" /><path clip-path=\"url(#clip490)\" d=\"M 0 0 M1298.97 1515.64 Q1295.36 1515.64 1293.53 1519.2 Q1291.72 1522.75 1291.72 1529.87 Q1291.72 1536.98 1293.53 1540.55 Q1295.36 1544.09 1298.97 1544.09 Q1302.6 1544.09 1304.41 1540.55 Q1306.24 1536.98 1306.24 1529.87 Q1306.24 1522.75 1304.41 1519.2 Q1302.6 1515.64 1298.97 1515.64 M1298.97 1511.93 Q1304.78 1511.93 1307.83 1516.54 Q1310.91 1521.12 1310.91 1529.87 Q1310.91 1538.6 1307.83 1543.21 Q1304.78 1547.79 1298.97 1547.79 Q1293.16 1547.79 1290.08 1543.21 Q1287.02 1538.6 1287.02 1529.87 Q1287.02 1521.12 1290.08 1516.54 Q1293.16 1511.93 1298.97 1511.93 Z\" fill=\"#000000\" fill-rule=\"evenodd\" fill-opacity=\"1\" /><path clip-path=\"url(#clip490)\" d=\"M 0 0 M1609.97 1543.18 L1617.61 1543.18 L1617.61 1516.82 L1609.3 1518.49 L1609.3 1514.23 L1617.56 1512.56 L1622.23 1512.56 L1622.23 1543.18 L1629.87 1543.18 L1629.87 1547.12 L1609.97 1547.12 L1609.97 1543.18 Z\" fill=\"#000000\" fill-rule=\"evenodd\" fill-opacity=\"1\" /><path clip-path=\"url(#clip490)\" d=\"M 0 0 M1639.32 1541.24 L1644.2 1541.24 L1644.2 1547.12 L1639.32 1547.12 L1639.32 1541.24 Z\" fill=\"#000000\" fill-rule=\"evenodd\" fill-opacity=\"1\" /><path clip-path=\"url(#clip490)\" d=\"M 0 0 M1654.43 1512.56 L1672.79 1512.56 L1672.79 1516.5 L1658.72 1516.5 L1658.72 1524.97 Q1659.73 1524.62 1660.75 1524.46 Q1661.77 1524.27 1662.79 1524.27 Q1668.58 1524.27 1671.96 1527.44 Q1675.34 1530.62 1675.34 1536.03 Q1675.34 1541.61 1671.86 1544.71 Q1668.39 1547.79 1662.07 1547.79 Q1659.9 1547.79 1657.63 1547.42 Q1655.38 1547.05 1652.98 1546.31 L1652.98 1541.61 Q1655.06 1542.74 1657.28 1543.3 Q1659.5 1543.86 1661.98 1543.86 Q1665.98 1543.86 1668.32 1541.75 Q1670.66 1539.64 1670.66 1536.03 Q1670.66 1532.42 1668.32 1530.31 Q1665.98 1528.21 1661.98 1528.21 Q1660.1 1528.21 1658.23 1528.62 Q1656.38 1529.04 1654.43 1529.92 L1654.43 1512.56 Z\" fill=\"#000000\" fill-rule=\"evenodd\" fill-opacity=\"1\" /><path clip-path=\"url(#clip490)\" d=\"M 0 0 M1978.47 1543.18 L1994.79 1543.18 L1994.79 1547.12 L1972.85 1547.12 L1972.85 1543.18 Q1975.51 1540.43 1980.1 1535.8 Q1984.7 1531.15 1985.88 1529.81 Q1988.13 1527.28 1989.01 1525.55 Q1989.91 1523.79 1989.91 1522.1 Q1989.91 1519.34 1987.97 1517.61 Q1986.04 1515.87 1982.94 1515.87 Q1980.74 1515.87 1978.29 1516.63 Q1975.86 1517.4 1973.08 1518.95 L1973.08 1514.23 Q1975.91 1513.09 1978.36 1512.51 Q1980.81 1511.93 1982.85 1511.93 Q1988.22 1511.93 1991.41 1514.62 Q1994.61 1517.31 1994.61 1521.8 Q1994.61 1523.93 1993.8 1525.85 Q1993.01 1527.74 1990.91 1530.34 Q1990.33 1531.01 1987.22 1534.23 Q1984.12 1537.42 1978.47 1543.18 Z\" fill=\"#000000\" fill-rule=\"evenodd\" fill-opacity=\"1\" /><path clip-path=\"url(#clip490)\" d=\"M 0 0 M2004.61 1541.24 L2009.49 1541.24 L2009.49 1547.12 L2004.61 1547.12 L2004.61 1541.24 Z\" fill=\"#000000\" fill-rule=\"evenodd\" fill-opacity=\"1\" /><path clip-path=\"url(#clip490)\" d=\"M 0 0 M2029.68 1515.64 Q2026.07 1515.64 2024.24 1519.2 Q2022.43 1522.75 2022.43 1529.87 Q2022.43 1536.98 2024.24 1540.55 Q2026.07 1544.09 2029.68 1544.09 Q2033.31 1544.09 2035.12 1540.55 Q2036.95 1536.98 2036.95 1529.87 Q2036.95 1522.75 2035.12 1519.2 Q2033.31 1515.64 2029.68 1515.64 M2029.68 1511.93 Q2035.49 1511.93 2038.54 1516.54 Q2041.62 1521.12 2041.62 1529.87 Q2041.62 1538.6 2038.54 1543.21 Q2035.49 1547.79 2029.68 1547.79 Q2023.87 1547.79 2020.79 1543.21 Q2017.73 1538.6 2017.73 1529.87 Q2017.73 1521.12 2020.79 1516.54 Q2023.87 1511.93 2029.68 1511.93 Z\" fill=\"#000000\" fill-rule=\"evenodd\" fill-opacity=\"1\" /><polyline clip-path=\"url(#clip492)\" style=\"stroke:#000000; stroke-width:2; stroke-opacity:0.1; fill:none\" points=\"\n",
       "  186.274,1445.74 2352.76,1445.74 \n",
       "  \"/>\n",
       "<polyline clip-path=\"url(#clip492)\" style=\"stroke:#000000; stroke-width:2; stroke-opacity:0.1; fill:none\" points=\"\n",
       "  186.274,1155.97 2352.76,1155.97 \n",
       "  \"/>\n",
       "<polyline clip-path=\"url(#clip492)\" style=\"stroke:#000000; stroke-width:2; stroke-opacity:0.1; fill:none\" points=\"\n",
       "  186.274,866.194 2352.76,866.194 \n",
       "  \"/>\n",
       "<polyline clip-path=\"url(#clip492)\" style=\"stroke:#000000; stroke-width:2; stroke-opacity:0.1; fill:none\" points=\"\n",
       "  186.274,576.42 2352.76,576.42 \n",
       "  \"/>\n",
       "<polyline clip-path=\"url(#clip492)\" style=\"stroke:#000000; stroke-width:2; stroke-opacity:0.1; fill:none\" points=\"\n",
       "  186.274,286.646 2352.76,286.646 \n",
       "  \"/>\n",
       "<polyline clip-path=\"url(#clip490)\" style=\"stroke:#000000; stroke-width:4; stroke-opacity:1; fill:none\" points=\"\n",
       "  186.274,1486.45 186.274,47.2441 \n",
       "  \"/>\n",
       "<polyline clip-path=\"url(#clip490)\" style=\"stroke:#000000; stroke-width:4; stroke-opacity:1; fill:none\" points=\"\n",
       "  186.274,1445.74 212.272,1445.74 \n",
       "  \"/>\n",
       "<polyline clip-path=\"url(#clip490)\" style=\"stroke:#000000; stroke-width:4; stroke-opacity:1; fill:none\" points=\"\n",
       "  186.274,1155.97 212.272,1155.97 \n",
       "  \"/>\n",
       "<polyline clip-path=\"url(#clip490)\" style=\"stroke:#000000; stroke-width:4; stroke-opacity:1; fill:none\" points=\"\n",
       "  186.274,866.194 212.272,866.194 \n",
       "  \"/>\n",
       "<polyline clip-path=\"url(#clip490)\" style=\"stroke:#000000; stroke-width:4; stroke-opacity:1; fill:none\" points=\"\n",
       "  186.274,576.42 212.272,576.42 \n",
       "  \"/>\n",
       "<polyline clip-path=\"url(#clip490)\" style=\"stroke:#000000; stroke-width:4; stroke-opacity:1; fill:none\" points=\"\n",
       "  186.274,286.646 212.272,286.646 \n",
       "  \"/>\n",
       "<path clip-path=\"url(#clip490)\" d=\"M 0 0 M62.9365 1431.54 Q59.3254 1431.54 57.4967 1435.11 Q55.6912 1438.65 55.6912 1445.78 Q55.6912 1452.88 57.4967 1456.45 Q59.3254 1459.99 62.9365 1459.99 Q66.5707 1459.99 68.3763 1456.45 Q70.205 1452.88 70.205 1445.78 Q70.205 1438.65 68.3763 1435.11 Q66.5707 1431.54 62.9365 1431.54 M62.9365 1427.84 Q68.7467 1427.84 71.8022 1432.44 Q74.8809 1437.03 74.8809 1445.78 Q74.8809 1454.5 71.8022 1459.11 Q68.7467 1463.69 62.9365 1463.69 Q57.1264 1463.69 54.0477 1459.11 Q50.9921 1454.5 50.9921 1445.78 Q50.9921 1437.03 54.0477 1432.44 Q57.1264 1427.84 62.9365 1427.84 Z\" fill=\"#000000\" fill-rule=\"evenodd\" fill-opacity=\"1\" /><path clip-path=\"url(#clip490)\" d=\"M 0 0 M83.0984 1457.14 L87.9827 1457.14 L87.9827 1463.02 L83.0984 1463.02 L83.0984 1457.14 Z\" fill=\"#000000\" fill-rule=\"evenodd\" fill-opacity=\"1\" /><path clip-path=\"url(#clip490)\" d=\"M 0 0 M108.168 1431.54 Q104.557 1431.54 102.728 1435.11 Q100.922 1438.65 100.922 1445.78 Q100.922 1452.88 102.728 1456.45 Q104.557 1459.99 108.168 1459.99 Q111.802 1459.99 113.608 1456.45 Q115.436 1452.88 115.436 1445.78 Q115.436 1438.65 113.608 1435.11 Q111.802 1431.54 108.168 1431.54 M108.168 1427.84 Q113.978 1427.84 117.033 1432.44 Q120.112 1437.03 120.112 1445.78 Q120.112 1454.5 117.033 1459.11 Q113.978 1463.69 108.168 1463.69 Q102.358 1463.69 99.2789 1459.11 Q96.2234 1454.5 96.2234 1445.78 Q96.2234 1437.03 99.2789 1432.44 Q102.358 1427.84 108.168 1427.84 Z\" fill=\"#000000\" fill-rule=\"evenodd\" fill-opacity=\"1\" /><path clip-path=\"url(#clip490)\" d=\"M 0 0 M138.33 1431.54 Q134.719 1431.54 132.89 1435.11 Q131.084 1438.65 131.084 1445.78 Q131.084 1452.88 132.89 1456.45 Q134.719 1459.99 138.33 1459.99 Q141.964 1459.99 143.769 1456.45 Q145.598 1452.88 145.598 1445.78 Q145.598 1438.65 143.769 1435.11 Q141.964 1431.54 138.33 1431.54 M138.33 1427.84 Q144.14 1427.84 147.195 1432.44 Q150.274 1437.03 150.274 1445.78 Q150.274 1454.5 147.195 1459.11 Q144.14 1463.69 138.33 1463.69 Q132.519 1463.69 129.441 1459.11 Q126.385 1454.5 126.385 1445.78 Q126.385 1437.03 129.441 1432.44 Q132.519 1427.84 138.33 1427.84 Z\" fill=\"#000000\" fill-rule=\"evenodd\" fill-opacity=\"1\" /><path clip-path=\"url(#clip490)\" d=\"M 0 0 M63.9319 1141.77 Q60.3208 1141.77 58.4921 1145.33 Q56.6865 1148.87 56.6865 1156 Q56.6865 1163.11 58.4921 1166.67 Q60.3208 1170.22 63.9319 1170.22 Q67.5661 1170.22 69.3717 1166.67 Q71.2004 1163.11 71.2004 1156 Q71.2004 1148.87 69.3717 1145.33 Q67.5661 1141.77 63.9319 1141.77 M63.9319 1138.06 Q69.742 1138.06 72.7976 1142.67 Q75.8763 1147.25 75.8763 1156 Q75.8763 1164.73 72.7976 1169.34 Q69.742 1173.92 63.9319 1173.92 Q58.1217 1173.92 55.043 1169.34 Q51.9875 1164.73 51.9875 1156 Q51.9875 1147.25 55.043 1142.67 Q58.1217 1138.06 63.9319 1138.06 Z\" fill=\"#000000\" fill-rule=\"evenodd\" fill-opacity=\"1\" /><path clip-path=\"url(#clip490)\" d=\"M 0 0 M84.0938 1167.37 L88.978 1167.37 L88.978 1173.25 L84.0938 1173.25 L84.0938 1167.37 Z\" fill=\"#000000\" fill-rule=\"evenodd\" fill-opacity=\"1\" /><path clip-path=\"url(#clip490)\" d=\"M 0 0 M103.191 1169.31 L119.51 1169.31 L119.51 1173.25 L97.566 1173.25 L97.566 1169.31 Q100.228 1166.56 104.811 1161.93 Q109.418 1157.28 110.598 1155.93 Q112.844 1153.41 113.723 1151.67 Q114.626 1149.91 114.626 1148.23 Q114.626 1145.47 112.682 1143.73 Q110.76 1142 107.658 1142 Q105.459 1142 103.006 1142.76 Q100.575 1143.53 97.7974 1145.08 L97.7974 1140.35 Q100.621 1139.22 103.075 1138.64 Q105.529 1138.06 107.566 1138.06 Q112.936 1138.06 116.131 1140.75 Q119.325 1143.43 119.325 1147.92 Q119.325 1150.05 118.515 1151.98 Q117.728 1153.87 115.621 1156.47 Q115.043 1157.14 111.941 1160.35 Q108.839 1163.55 103.191 1169.31 Z\" fill=\"#000000\" fill-rule=\"evenodd\" fill-opacity=\"1\" /><path clip-path=\"url(#clip490)\" d=\"M 0 0 M129.371 1138.69 L147.728 1138.69 L147.728 1142.62 L133.654 1142.62 L133.654 1151.1 Q134.672 1150.75 135.691 1150.59 Q136.709 1150.4 137.728 1150.4 Q143.515 1150.4 146.894 1153.57 Q150.274 1156.74 150.274 1162.16 Q150.274 1167.74 146.802 1170.84 Q143.33 1173.92 137.01 1173.92 Q134.834 1173.92 132.566 1173.55 Q130.32 1173.18 127.913 1172.44 L127.913 1167.74 Q129.996 1168.87 132.219 1169.43 Q134.441 1169.98 136.918 1169.98 Q140.922 1169.98 143.26 1167.88 Q145.598 1165.77 145.598 1162.16 Q145.598 1158.55 143.26 1156.44 Q140.922 1154.34 136.918 1154.34 Q135.043 1154.34 133.168 1154.75 Q131.316 1155.17 129.371 1156.05 L129.371 1138.69 Z\" fill=\"#000000\" fill-rule=\"evenodd\" fill-opacity=\"1\" /><path clip-path=\"url(#clip490)\" d=\"M 0 0 M62.9365 851.993 Q59.3254 851.993 57.4967 855.558 Q55.6912 859.099 55.6912 866.229 Q55.6912 873.335 57.4967 876.9 Q59.3254 880.442 62.9365 880.442 Q66.5707 880.442 68.3763 876.9 Q70.205 873.335 70.205 866.229 Q70.205 859.099 68.3763 855.558 Q66.5707 851.993 62.9365 851.993 M62.9365 848.289 Q68.7467 848.289 71.8022 852.896 Q74.8809 857.479 74.8809 866.229 Q74.8809 874.956 71.8022 879.562 Q68.7467 884.146 62.9365 884.146 Q57.1264 884.146 54.0477 879.562 Q50.9921 874.956 50.9921 866.229 Q50.9921 857.479 54.0477 852.896 Q57.1264 848.289 62.9365 848.289 Z\" fill=\"#000000\" fill-rule=\"evenodd\" fill-opacity=\"1\" /><path clip-path=\"url(#clip490)\" d=\"M 0 0 M83.0984 877.595 L87.9827 877.595 L87.9827 883.474 L83.0984 883.474 L83.0984 877.595 Z\" fill=\"#000000\" fill-rule=\"evenodd\" fill-opacity=\"1\" /><path clip-path=\"url(#clip490)\" d=\"M 0 0 M98.2141 848.914 L116.57 848.914 L116.57 852.849 L102.496 852.849 L102.496 861.322 Q103.515 860.974 104.534 860.812 Q105.552 860.627 106.571 860.627 Q112.358 860.627 115.737 863.798 Q119.117 866.97 119.117 872.386 Q119.117 877.965 115.645 881.067 Q112.172 884.146 105.853 884.146 Q103.677 884.146 101.409 883.775 Q99.1632 883.405 96.7558 882.664 L96.7558 877.965 Q98.8391 879.099 101.061 879.655 Q103.284 880.21 105.76 880.21 Q109.765 880.21 112.103 878.104 Q114.441 875.997 114.441 872.386 Q114.441 868.775 112.103 866.669 Q109.765 864.562 105.76 864.562 Q103.885 864.562 102.01 864.979 Q100.159 865.396 98.2141 866.275 L98.2141 848.914 Z\" fill=\"#000000\" fill-rule=\"evenodd\" fill-opacity=\"1\" /><path clip-path=\"url(#clip490)\" d=\"M 0 0 M138.33 851.993 Q134.719 851.993 132.89 855.558 Q131.084 859.099 131.084 866.229 Q131.084 873.335 132.89 876.9 Q134.719 880.442 138.33 880.442 Q141.964 880.442 143.769 876.9 Q145.598 873.335 145.598 866.229 Q145.598 859.099 143.769 855.558 Q141.964 851.993 138.33 851.993 M138.33 848.289 Q144.14 848.289 147.195 852.896 Q150.274 857.479 150.274 866.229 Q150.274 874.956 147.195 879.562 Q144.14 884.146 138.33 884.146 Q132.519 884.146 129.441 879.562 Q126.385 874.956 126.385 866.229 Q126.385 857.479 129.441 852.896 Q132.519 848.289 138.33 848.289 Z\" fill=\"#000000\" fill-rule=\"evenodd\" fill-opacity=\"1\" /><path clip-path=\"url(#clip490)\" d=\"M 0 0 M63.9319 562.219 Q60.3208 562.219 58.4921 565.784 Q56.6865 569.326 56.6865 576.455 Q56.6865 583.562 58.4921 587.126 Q60.3208 590.668 63.9319 590.668 Q67.5661 590.668 69.3717 587.126 Q71.2004 583.562 71.2004 576.455 Q71.2004 569.326 69.3717 565.784 Q67.5661 562.219 63.9319 562.219 M63.9319 558.515 Q69.742 558.515 72.7976 563.122 Q75.8763 567.705 75.8763 576.455 Q75.8763 585.182 72.7976 589.788 Q69.742 594.372 63.9319 594.372 Q58.1217 594.372 55.043 589.788 Q51.9875 585.182 51.9875 576.455 Q51.9875 567.705 55.043 563.122 Q58.1217 558.515 63.9319 558.515 Z\" fill=\"#000000\" fill-rule=\"evenodd\" fill-opacity=\"1\" /><path clip-path=\"url(#clip490)\" d=\"M 0 0 M84.0938 587.821 L88.978 587.821 L88.978 593.7 L84.0938 593.7 L84.0938 587.821 Z\" fill=\"#000000\" fill-rule=\"evenodd\" fill-opacity=\"1\" /><path clip-path=\"url(#clip490)\" d=\"M 0 0 M97.9826 559.14 L120.205 559.14 L120.205 561.131 L107.658 593.7 L102.774 593.7 L114.58 563.076 L97.9826 563.076 L97.9826 559.14 Z\" fill=\"#000000\" fill-rule=\"evenodd\" fill-opacity=\"1\" /><path clip-path=\"url(#clip490)\" d=\"M 0 0 M129.371 559.14 L147.728 559.14 L147.728 563.076 L133.654 563.076 L133.654 571.548 Q134.672 571.2 135.691 571.038 Q136.709 570.853 137.728 570.853 Q143.515 570.853 146.894 574.025 Q150.274 577.196 150.274 582.612 Q150.274 588.191 146.802 591.293 Q143.33 594.372 137.01 594.372 Q134.834 594.372 132.566 594.001 Q130.32 593.631 127.913 592.89 L127.913 588.191 Q129.996 589.325 132.219 589.881 Q134.441 590.437 136.918 590.437 Q140.922 590.437 143.26 588.33 Q145.598 586.224 145.598 582.612 Q145.598 579.001 143.26 576.895 Q140.922 574.788 136.918 574.788 Q135.043 574.788 133.168 575.205 Q131.316 575.622 129.371 576.501 L129.371 559.14 Z\" fill=\"#000000\" fill-rule=\"evenodd\" fill-opacity=\"1\" /><path clip-path=\"url(#clip490)\" d=\"M 0 0 M53.7467 299.991 L61.3856 299.991 L61.3856 273.626 L53.0754 275.292 L53.0754 271.033 L61.3393 269.366 L66.0152 269.366 L66.0152 299.991 L73.654 299.991 L73.654 303.926 L53.7467 303.926 L53.7467 299.991 Z\" fill=\"#000000\" fill-rule=\"evenodd\" fill-opacity=\"1\" /><path clip-path=\"url(#clip490)\" d=\"M 0 0 M83.0984 298.047 L87.9827 298.047 L87.9827 303.926 L83.0984 303.926 L83.0984 298.047 Z\" fill=\"#000000\" fill-rule=\"evenodd\" fill-opacity=\"1\" /><path clip-path=\"url(#clip490)\" d=\"M 0 0 M108.168 272.445 Q104.557 272.445 102.728 276.01 Q100.922 279.552 100.922 286.681 Q100.922 293.788 102.728 297.352 Q104.557 300.894 108.168 300.894 Q111.802 300.894 113.608 297.352 Q115.436 293.788 115.436 286.681 Q115.436 279.552 113.608 276.01 Q111.802 272.445 108.168 272.445 M108.168 268.741 Q113.978 268.741 117.033 273.348 Q120.112 277.931 120.112 286.681 Q120.112 295.408 117.033 300.014 Q113.978 304.598 108.168 304.598 Q102.358 304.598 99.2789 300.014 Q96.2234 295.408 96.2234 286.681 Q96.2234 277.931 99.2789 273.348 Q102.358 268.741 108.168 268.741 Z\" fill=\"#000000\" fill-rule=\"evenodd\" fill-opacity=\"1\" /><path clip-path=\"url(#clip490)\" d=\"M 0 0 M138.33 272.445 Q134.719 272.445 132.89 276.01 Q131.084 279.552 131.084 286.681 Q131.084 293.788 132.89 297.352 Q134.719 300.894 138.33 300.894 Q141.964 300.894 143.769 297.352 Q145.598 293.788 145.598 286.681 Q145.598 279.552 143.769 276.01 Q141.964 272.445 138.33 272.445 M138.33 268.741 Q144.14 268.741 147.195 273.348 Q150.274 277.931 150.274 286.681 Q150.274 295.408 147.195 300.014 Q144.14 304.598 138.33 304.598 Q132.519 304.598 129.441 300.014 Q126.385 295.408 126.385 286.681 Q126.385 277.931 129.441 273.348 Q132.519 268.741 138.33 268.741 Z\" fill=\"#000000\" fill-rule=\"evenodd\" fill-opacity=\"1\" /><polyline clip-path=\"url(#clip492)\" style=\"stroke:#009af9; stroke-width:4; stroke-opacity:1; fill:none\" points=\"\n",
       "  247.59,1445.69 257.86,1445.66 268.131,1445.61 278.401,1445.52 288.672,1445.38 298.943,1445.15 309.213,1444.82 319.484,1444.31 329.754,1443.57 340.025,1442.51 \n",
       "  350.296,1441 360.566,1438.91 370.837,1436.07 381.107,1432.29 391.378,1427.35 401.649,1421.01 411.919,1413.03 422.19,1403.19 432.46,1391.28 442.731,1377.13 \n",
       "  453.002,1360.63 463.272,1341.74 473.543,1320.51 483.813,1297.04 494.084,1271.55 504.355,1244.27 514.625,1215.51 524.896,1185.56 535.167,1154.71 545.437,1123.17 \n",
       "  555.708,1091.11 565.978,1058.58 576.249,1025.54 586.52,991.877 596.79,957.385 607.061,921.832 617.331,884.978 627.602,846.622 637.873,806.634 648.143,764.985 \n",
       "  658.414,721.767 668.684,677.195 678.955,631.597 689.226,585.392 699.496,539.061 709.767,493.107 720.037,448.026 730.308,404.274 740.579,362.248 750.849,322.282 \n",
       "  761.12,284.649 771.39,249.578 781.661,217.276 791.932,187.953 802.202,161.838 812.473,139.192 822.744,120.307 833.014,105.487 843.285,95.0194 853.555,89.1379 \n",
       "  863.826,87.9763 874.097,91.5288 884.367,99.6173 894.638,111.874 904.908,127.742 915.179,146.503 925.45,167.313 935.72,189.267 945.991,211.467 956.261,233.09 \n",
       "  966.532,253.456 976.803,272.08 987.073,288.706 997.344,303.316 1007.61,316.121 1017.89,327.524 1028.16,338.077 1038.43,348.416 1048.7,359.201 1058.97,371.053 \n",
       "  1069.24,384.509 1079.51,399.977 1089.78,417.724 1100.05,437.866 1110.32,460.382 1120.59,485.136 1130.86,511.91 1141.13,540.437 1151.4,570.432 1161.67,601.623 \n",
       "  1171.94,633.763 1182.21,666.643 1192.49,700.09 1202.76,733.953 1213.03,768.095 1223.3,802.369 1233.57,836.605 1243.84,870.595 1254.11,904.085 1264.38,936.781 \n",
       "  1274.65,968.348 1284.92,998.433 1295.19,1026.68 1305.46,1052.76 1315.73,1076.38 1326,1097.32 1336.27,1115.44 1346.54,1130.71 1356.82,1143.19 1367.09,1153.02 \n",
       "  1377.36,1160.47 1387.63,1165.85 1397.9,1169.54 1408.17,1171.96 1418.44,1173.54 1428.71,1174.71 1438.98,1175.87 1449.25,1177.41 1459.52,1179.62 1469.79,1182.77 \n",
       "  1480.06,1187.03 1490.33,1192.51 1500.6,1199.24 1510.87,1207.17 1521.14,1216.18 1531.42,1226.11 1541.69,1236.72 1551.96,1247.77 1562.23,1259 1572.5,1270.15 \n",
       "  1582.77,1280.98 1593.04,1291.28 1603.31,1300.89 1613.58,1309.68 1623.85,1317.59 1634.12,1324.58 1644.39,1330.66 1654.66,1335.86 1664.93,1340.23 1675.2,1343.83 \n",
       "  1685.47,1346.73 1695.75,1349.01 1706.02,1350.74 1716.29,1352 1726.56,1352.87 1736.83,1353.45 1747.1,1353.85 1757.37,1354.17 1767.64,1354.54 1777.91,1355.07 \n",
       "  1788.18,1355.87 1798.45,1357.04 1808.72,1358.64 1818.99,1360.7 1829.26,1363.23 1839.53,1366.17 1849.8,1369.45 1860.07,1372.96 1870.35,1376.59 1880.62,1380.21 \n",
       "  1890.89,1383.72 1901.16,1387.04 1911.43,1390.11 1921.7,1392.91 1931.97,1395.47 1942.24,1397.82 1952.51,1400.04 1962.78,1402.2 1973.05,1404.39 1983.32,1406.66 \n",
       "  1993.59,1409.08 2003.86,1411.65 2014.13,1414.38 2024.4,1417.24 2034.68,1420.18 2044.95,1423.15 2055.22,1426.07 2065.49,1428.88 2075.76,1431.53 2086.03,1433.95 \n",
       "  2096.3,1436.13 2106.57,1438.04 2116.84,1439.68 2127.11,1441.05 2137.38,1442.18 2147.65,1443.08 2157.92,1443.79 2168.19,1444.33 2178.46,1444.75 2188.73,1445.05 \n",
       "  2199,1445.27 2209.28,1445.43 2219.55,1445.53 2229.82,1445.61 2240.09,1445.66 2250.36,1445.69 2260.63,1445.71 2270.9,1445.71 2281.17,1445.72 2291.44,1445.71 \n",
       "  \n",
       "  \"/>\n",
       "<path clip-path=\"url(#clip490)\" d=\"\n",
       "M1987.39 216.178 L2280.54 216.178 L2280.54 95.2176 L1987.39 95.2176  Z\n",
       "  \" fill=\"#ffffff\" fill-rule=\"evenodd\" fill-opacity=\"1\"/>\n",
       "<polyline clip-path=\"url(#clip490)\" style=\"stroke:#000000; stroke-width:4; stroke-opacity:1; fill:none\" points=\"\n",
       "  1987.39,216.178 2280.54,216.178 2280.54,95.2176 1987.39,95.2176 1987.39,216.178 \n",
       "  \"/>\n",
       "<polyline clip-path=\"url(#clip490)\" style=\"stroke:#009af9; stroke-width:4; stroke-opacity:1; fill:none\" points=\"\n",
       "  2011.46,155.698 2155.89,155.698 \n",
       "  \"/>\n",
       "<path clip-path=\"url(#clip490)\" d=\"M 0 0 M2193.81 175.385 Q2192 180.015 2190.29 181.427 Q2188.58 182.839 2185.71 182.839 L2182.3 182.839 L2182.3 179.274 L2184.8 179.274 Q2186.56 179.274 2187.53 178.44 Q2188.51 177.607 2189.69 174.505 L2190.45 172.561 L2179.97 147.052 L2184.48 147.052 L2192.58 167.329 L2200.68 147.052 L2205.2 147.052 L2193.81 175.385 Z\" fill=\"#000000\" fill-rule=\"evenodd\" fill-opacity=\"1\" /><path clip-path=\"url(#clip490)\" d=\"M 0 0 M2212.49 169.042 L2220.13 169.042 L2220.13 142.677 L2211.82 144.343 L2211.82 140.084 L2220.08 138.418 L2224.76 138.418 L2224.76 169.042 L2232.4 169.042 L2232.4 172.978 L2212.49 172.978 L2212.49 169.042 Z\" fill=\"#000000\" fill-rule=\"evenodd\" fill-opacity=\"1\" /></svg>\n"
      ]
     },
     "execution_count": 154,
     "metadata": {},
     "output_type": "execute_result"
    }
   ],
   "source": [
    "# build up efficiency variance table\n",
    "\n",
    "dist = Normal(0, 1)\n",
    "σ_u = map(t->exp(t), convert(Matrix, df[:, ED_names]) * parameters[nvar+2:end])  # vector of estimation of σ_u\n",
    "σ_v = parameters[nvar+1]\n",
    "β = parameters[1:nvar]\n",
    "x = convert(Matrix, x) \n",
    "ε = vec(y - x*β)\n",
    "\n",
    "u_star = vec((-σ_u.^2 .*ε)./(σ_v^2 .+ σ_u.^2))\n",
    "sigma_star = vec(map(σ_ui -> (σ_v^2*σ_ui^2)/(σ_v^2 + σ_ui^2), σ_u))\n",
    "tmp = u_star ./(sigma_star .^(1/2))\n",
    "\n",
    "# Exp_u_i is expectation of u_i condition on ε_i\n",
    "Exp_u_i = sigma_star .^(1/2) .*map(t->pdf(dist, t), tmp) ./(map(t->cdf(dist, t), tmp)) .+ u_star   \n",
    "\n",
    "density(vec(Exp_u_i))"
   ]
  },
  {
   "cell_type": "code",
   "execution_count": null,
   "metadata": {},
   "outputs": [],
   "source": []
  }
 ],
 "metadata": {
  "kernelspec": {
   "display_name": "Julia 1.6.0",
   "language": "julia",
   "name": "julia-1.6"
  },
  "language_info": {
   "file_extension": ".jl",
   "mimetype": "application/julia",
   "name": "julia",
   "version": "1.6.0"
  }
 },
 "nbformat": 4,
 "nbformat_minor": 4
}
